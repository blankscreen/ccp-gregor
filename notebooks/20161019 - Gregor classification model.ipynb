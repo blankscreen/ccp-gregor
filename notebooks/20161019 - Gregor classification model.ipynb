{
 "cells": [
  {
   "cell_type": "code",
   "execution_count": 1,
   "metadata": {
    "collapsed": false
   },
   "outputs": [
    {
     "name": "stdout",
     "output_type": "stream",
     "text": [
      "Populating the interactive namespace from numpy and matplotlib\n"
     ]
    }
   ],
   "source": [
    "%pylab inline"
   ]
  },
  {
   "cell_type": "code",
   "execution_count": 407,
   "metadata": {
    "collapsed": true
   },
   "outputs": [],
   "source": [
    "import os, shutil, codecs, gensim, string, re\n",
    "import numpy as np\n",
    "import matplotlib.pyplot as plt\n",
    "from sklearn import manifold\n",
    "from unidecode import unidecode\n",
    "from collections import Counter\n",
    "from nltk.corpus import stopwords"
   ]
  },
  {
   "cell_type": "code",
   "execution_count": 19,
   "metadata": {
    "collapsed": true
   },
   "outputs": [],
   "source": [
    "from sklearn.feature_extraction.text import TfidfTransformer\n",
    "from sklearn.naive_bayes import MultinomialNB"
   ]
  },
  {
   "cell_type": "code",
   "execution_count": 305,
   "metadata": {
    "collapsed": true
   },
   "outputs": [],
   "source": [
    "stoplist = stopwords.words()"
   ]
  },
  {
   "cell_type": "code",
   "execution_count": 361,
   "metadata": {
    "collapsed": true
   },
   "outputs": [],
   "source": [
    "bpath = '/Users/erickpeirson/Downloads/161019_Gregor_txts'\n",
    "opath = '/Users/erickpeirson/Downloads/gregor_grouped_2'"
   ]
  },
  {
   "cell_type": "code",
   "execution_count": 499,
   "metadata": {
    "collapsed": false
   },
   "outputs": [],
   "source": [
    "for cl in set(class_map.values()):\n",
    "    try:\n",
    "        os.mkdir(os.path.join(opath, cl))\n",
    "    except OSError:\n",
    "        pass"
   ]
  },
  {
   "cell_type": "code",
   "execution_count": 500,
   "metadata": {
    "collapsed": false
   },
   "outputs": [],
   "source": [
    "for fname in os.listdir(bpath):\n",
    "    fpath = os.path.join(bpath, fname)\n",
    "    fname = unidecode(fname.decode('utf-8'))\n",
    "    if fname not in class_map:\n",
    "        continue\n",
    "        \n",
    "    tpath = os.path.join(opath, class_map[fname], fname)\n",
    "    shutil.copy(fpath, tpath)"
   ]
  },
  {
   "cell_type": "code",
   "execution_count": 501,
   "metadata": {
    "collapsed": true
   },
   "outputs": [],
   "source": [
    "def normalize(token):\n",
    "    return unidecode(token).lower().translate(string.maketrans(\"\",\"\"), string.punctuation)"
   ]
  },
  {
   "cell_type": "code",
   "execution_count": 502,
   "metadata": {
    "collapsed": false
   },
   "outputs": [],
   "source": [
    "unique_classes = list(set(class_map.values()))"
   ]
  },
  {
   "cell_type": "code",
   "execution_count": 503,
   "metadata": {
    "collapsed": false,
    "scrolled": true
   },
   "outputs": [],
   "source": [
    "documents = []\n",
    "fnames = []\n",
    "classes = []\n",
    "\n",
    "for cl in unique_classes:\n",
    "    cl_path = os.path.join(opath, cl)\n",
    "    for fname in os.listdir(cl_path):\n",
    "        fnames.append(fname)\n",
    "        classes.append(cl)\n",
    "        fpath = os.path.join(cl_path, fname)\n",
    "        with codecs.open(fpath, 'r', encoding='utf-8') as f:\n",
    "            raw = f.read()\n",
    "        documents.append([normalize(token) for token in raw.split()])"
   ]
  },
  {
   "cell_type": "code",
   "execution_count": 504,
   "metadata": {
    "collapsed": false
   },
   "outputs": [],
   "source": [
    "phrase_model = gensim.models.phrases.Phrases(documents)"
   ]
  },
  {
   "cell_type": "code",
   "execution_count": 505,
   "metadata": {
    "collapsed": true
   },
   "outputs": [],
   "source": [
    "bigrams = phrase_model[documents]"
   ]
  },
  {
   "cell_type": "code",
   "execution_count": 506,
   "metadata": {
    "collapsed": true
   },
   "outputs": [],
   "source": [
    "trigram_model = gensim.models.phrases.Phrases(bigrams)"
   ]
  },
  {
   "cell_type": "code",
   "execution_count": 507,
   "metadata": {
    "collapsed": true
   },
   "outputs": [],
   "source": [
    "trigrams = trigram_model[bigrams]"
   ]
  },
  {
   "cell_type": "code",
   "execution_count": 508,
   "metadata": {
    "collapsed": true
   },
   "outputs": [],
   "source": [
    "term_counts_global = Counter()\n",
    "term_counts_doc = Counter()\n",
    "for doc in trigrams:\n",
    "    for term in doc:\n",
    "        term_counts_global[term] += 1\n",
    "    for term in set(doc):\n",
    "        term_counts_doc[term] += 1"
   ]
  },
  {
   "cell_type": "code",
   "execution_count": 509,
   "metadata": {
    "collapsed": true
   },
   "outputs": [],
   "source": [
    "def is_int(token):\n",
    "    try:\n",
    "        int(token)\n",
    "        return True\n",
    "    except:\n",
    "        return False"
   ]
  },
  {
   "cell_type": "code",
   "execution_count": 510,
   "metadata": {
    "collapsed": true
   },
   "outputs": [],
   "source": [
    "def has_int(token):\n",
    "    return any([is_int(char) for char in token])"
   ]
  },
  {
   "cell_type": "code",
   "execution_count": 511,
   "metadata": {
    "collapsed": false
   },
   "outputs": [],
   "source": [
    "def keep(token):\n",
    "    return len(token) > 2 \\\n",
    "        and token not in stoplist \\\n",
    "        and all([part not in stoplist for part in token.split('_')]) \\\n",
    "        and term_counts_doc[token] > 1 \\\n",
    "        and term_counts_doc[token] < 0.5*len(trigrams) \\\n",
    "        and not is_int(token) \\\n",
    "        and not has_int(token)"
   ]
  },
  {
   "cell_type": "code",
   "execution_count": 512,
   "metadata": {
    "collapsed": false
   },
   "outputs": [],
   "source": [
    "tokens = []\n",
    "for doc in trigrams:\n",
    "    tokens += doc"
   ]
  },
  {
   "cell_type": "code",
   "execution_count": 513,
   "metadata": {
    "collapsed": false
   },
   "outputs": [],
   "source": [
    "unique_tokens = set(tokens) - set([''])"
   ]
  },
  {
   "cell_type": "code",
   "execution_count": 514,
   "metadata": {
    "collapsed": true
   },
   "outputs": [],
   "source": [
    "keep_tokens = [token for token in unique_tokens if keep(token)]"
   ]
  },
  {
   "cell_type": "code",
   "execution_count": 515,
   "metadata": {
    "collapsed": false
   },
   "outputs": [],
   "source": [
    "vocabulary = {term: i for i, term in enumerate(keep_tokens)}"
   ]
  },
  {
   "cell_type": "code",
   "execution_count": 544,
   "metadata": {
    "collapsed": false
   },
   "outputs": [],
   "source": [
    "lookup = {v:k for k,v in vocabulary.iteritems()}"
   ]
  },
  {
   "cell_type": "code",
   "execution_count": 516,
   "metadata": {
    "collapsed": false
   },
   "outputs": [],
   "source": [
    "corpus = np.zeros((len(bigrams), len(vocabulary)))"
   ]
  },
  {
   "cell_type": "code",
   "execution_count": 517,
   "metadata": {
    "collapsed": false
   },
   "outputs": [],
   "source": [
    "for i, doc in enumerate(trigrams):\n",
    "    for token in doc:\n",
    "        j = vocabulary.get(token, None)\n",
    "        if not j:\n",
    "            continue\n",
    "        corpus[i, j] += 1."
   ]
  },
  {
   "cell_type": "code",
   "execution_count": 518,
   "metadata": {
    "collapsed": false
   },
   "outputs": [
    {
     "data": {
      "text/plain": [
       "487.0"
      ]
     },
     "execution_count": 518,
     "metadata": {},
     "output_type": "execute_result"
    }
   ],
   "source": [
    "corpus.max()"
   ]
  },
  {
   "cell_type": "code",
   "execution_count": 519,
   "metadata": {
    "collapsed": false
   },
   "outputs": [
    {
     "data": {
      "image/png": "[encoded data removed]",
      "text/plain": [
       "<matplotlib.figure.Figure at 0x16b455250>"
      ]
     },
     "metadata": {},
     "output_type": "display_data"
    }
   ],
   "source": [
    "plt.hist(corpus.flat, log=True, bins=np.arange(0, 3500, 100))\n",
    "plt.show()"
   ]
  },
  {
   "cell_type": "code",
   "execution_count": 520,
   "metadata": {
    "collapsed": false
   },
   "outputs": [
    {
     "data": {
      "text/plain": [
       "178"
      ]
     },
     "execution_count": 520,
     "metadata": {},
     "output_type": "execute_result"
    }
   ],
   "source": [
    "len(bigrams)"
   ]
  },
  {
   "cell_type": "code",
   "execution_count": 521,
   "metadata": {
    "collapsed": false
   },
   "outputs": [],
   "source": [
    "frequencies = (corpus.T/corpus.sum(axis=1)).T"
   ]
  },
  {
   "cell_type": "code",
   "execution_count": 522,
   "metadata": {
    "collapsed": false
   },
   "outputs": [
    {
     "data": {
      "image/png": "[encoded data removed]",
      "text/plain": [
       "<matplotlib.figure.Figure at 0x16b4836d0>"
      ]
     },
     "metadata": {},
     "output_type": "display_data"
    }
   ],
   "source": [
    "plt.hist(frequencies.flat, log=True, bins=np.arange(0, 1, 0.01))\n",
    "plt.show()"
   ]
  },
  {
   "cell_type": "code",
   "execution_count": 523,
   "metadata": {
    "collapsed": true
   },
   "outputs": [],
   "source": [
    "transformer = TfidfTransformer(smooth_idf=False)"
   ]
  },
  {
   "cell_type": "code",
   "execution_count": 524,
   "metadata": {
    "collapsed": false
   },
   "outputs": [],
   "source": [
    "tfidf = transformer.fit_transform(corpus)"
   ]
  },
  {
   "cell_type": "code",
   "execution_count": 525,
   "metadata": {
    "collapsed": false
   },
   "outputs": [
    {
     "data": {
      "image/png": "[encoded data removed]",
      "text/plain": [
       "<matplotlib.figure.Figure at 0x1763fabd0>"
      ]
     },
     "metadata": {},
     "output_type": "display_data"
    }
   ],
   "source": [
    "plt.hist(tfidf.todense().flat, log=True)\n",
    "plt.show()"
   ]
  },
  {
   "cell_type": "code",
   "execution_count": 526,
   "metadata": {
    "collapsed": true
   },
   "outputs": [],
   "source": [
    "from tethne.readers import zotero"
   ]
  },
  {
   "cell_type": "code",
   "execution_count": 527,
   "metadata": {
    "collapsed": false
   },
   "outputs": [],
   "source": [
    "class_map = {}\n",
    "class_data = [\n",
    "    ('Compl_and_Society', zotero.read('/Users/erickpeirson/Downloads/161020_Categories_Gregor.zip Folder/Compl_and_Society', follow_links=False)),\n",
    "    ('Economics', zotero.read('/Users/erickpeirson/Downloads/161020_Categories_Gregor.zip Folder/Economics', follow_links=False)),\n",
    "    ('Philosophy', zotero.read('/Users/erickpeirson/Downloads/161020_Categories_Gregor.zip Folder/Philosophy', follow_links=False)),\n",
    "    ('Politics_and_Norms', zotero.read('/Users/erickpeirson/Downloads/161020_Categories_Gregor.zip Folder/Politics_and_Norms', follow_links=False)),\n",
    "    ('SES_Model', zotero.read('/Users/erickpeirson/Downloads/161020_Categories_Gregor.zip Folder/SES_Model', follow_links=False)),\n",
    "    ('Theory_of_Science_and_Knowledge', zotero.read('/Users/erickpeirson/Downloads/161020_Categories_Gregor.zip Folder/Theory_of_Science_and_Knowledge', follow_links=False)),\n",
    "    ('Sustainability_Concepts', zotero.read('/Users/erickpeirson/Downloads/161020_Categories_Gregor.zip Folder/Sustainability_Concepts', follow_links=False)),\n",
    "]\n",
    "for cl, corpus in class_data:\n",
    "    for paper in corpus:\n",
    "        try:\n",
    "            key = unidecode(paper.link.split('/')[-1].replace('.pdf' ,'.txt'))\n",
    "        except AttributeError:\n",
    "            continue\n",
    "        class_map[key] = cl"
   ]
  },
  {
   "cell_type": "code",
   "execution_count": 528,
   "metadata": {
    "collapsed": false
   },
   "outputs": [],
   "source": [
    "classes = [class_map[fname] for fname in fnames]"
   ]
  },
  {
   "cell_type": "code",
   "execution_count": 529,
   "metadata": {
    "collapsed": false
   },
   "outputs": [],
   "source": [
    "tfidf = tfidf.todense()"
   ]
  },
  {
   "cell_type": "code",
   "execution_count": 530,
   "metadata": {
    "collapsed": false
   },
   "outputs": [
    {
     "data": {
      "text/plain": [
       "(178, 33912)"
      ]
     },
     "execution_count": 530,
     "metadata": {},
     "output_type": "execute_result"
    }
   ],
   "source": [
    "tfidf.shape"
   ]
  },
  {
   "cell_type": "code",
   "execution_count": 531,
   "metadata": {
    "collapsed": true
   },
   "outputs": [],
   "source": [
    "from itertools import cycle"
   ]
  },
  {
   "cell_type": "code",
   "execution_count": 532,
   "metadata": {
    "collapsed": false
   },
   "outputs": [],
   "source": [
    "tdata = np.concatenate((tfidf[:-10], tfidf[:-10]))\n",
    "cdata = np.concatenate((classes[:-10], classes[:-10]))"
   ]
  },
  {
   "cell_type": "code",
   "execution_count": 533,
   "metadata": {
    "collapsed": false
   },
   "outputs": [],
   "source": [
    "clf = MultinomialNB().fit(tfidf[:-10], classes[:-10])\n",
    "predictsions = clf.predict(tfidf[-10:])"
   ]
  },
  {
   "cell_type": "code",
   "execution_count": 534,
   "metadata": {
    "collapsed": false
   },
   "outputs": [
    {
     "name": "stdout",
     "output_type": "stream",
     "text": [
      "Compl_and_Society Sustainability_Concepts\n",
      "Compl_and_Society Sustainability_Concepts\n",
      "Compl_and_Society Sustainability_Concepts\n",
      "Compl_and_Society Sustainability_Concepts\n",
      "Compl_and_Society Sustainability_Concepts\n",
      "Compl_and_Society Philosophy\n",
      "Compl_and_Society Sustainability_Concepts\n",
      "Compl_and_Society Philosophy\n",
      "Compl_and_Society Theory_of_Science_and_Knowledge\n",
      "Compl_and_Society Philosophy\n"
     ]
    }
   ],
   "source": [
    "i = 0\n",
    "for k, p in zip(classes[-10:], predictsions):\n",
    "    i += k == p\n",
    "    print k, p"
   ]
  },
  {
   "cell_type": "code",
   "execution_count": 535,
   "metadata": {
    "collapsed": false
   },
   "outputs": [
    {
     "data": {
      "text/plain": [
       "0"
      ]
     },
     "execution_count": 535,
     "metadata": {},
     "output_type": "execute_result"
    }
   ],
   "source": [
    "i"
   ]
  },
  {
   "cell_type": "code",
   "execution_count": 536,
   "metadata": {
    "collapsed": false
   },
   "outputs": [],
   "source": [
    "K = []\n",
    "P = []\n",
    "for i, cl in enumerate(classes[:-1]):\n",
    "    if i > 0:\n",
    "        features = np.concatenate((tfidf[:i], tfidf[i+1:]))\n",
    "    else:\n",
    "        features = tfidf[1:]\n",
    "    known = classes[:i] + classes[i+1:]\n",
    "    clf = MultinomialNB().fit(features, known)\n",
    "    K.append(cl)\n",
    "    P.append(clf.predict(tfidf[i]))\n",
    "    "
   ]
  },
  {
   "cell_type": "code",
   "execution_count": 537,
   "metadata": {
    "collapsed": false
   },
   "outputs": [],
   "source": [
    "P = [p[0] for p in P]"
   ]
  },
  {
   "cell_type": "code",
   "execution_count": 538,
   "metadata": {
    "collapsed": false
   },
   "outputs": [
    {
     "name": "stdout",
     "output_type": "stream",
     "text": [
      "True :::: SES_Model | SES_Model\n",
      "False :::: SES_Model | Sustainability_Concepts\n",
      "True :::: SES_Model | SES_Model\n",
      "False :::: SES_Model | Sustainability_Concepts\n",
      "True :::: SES_Model | SES_Model\n",
      "False :::: SES_Model | Sustainability_Concepts\n",
      "False :::: SES_Model | Sustainability_Concepts\n",
      "False :::: SES_Model | Sustainability_Concepts\n",
      "True :::: SES_Model | SES_Model\n",
      "True :::: SES_Model | SES_Model\n",
      "True :::: SES_Model | SES_Model\n",
      "False :::: SES_Model | Sustainability_Concepts\n",
      "True :::: SES_Model | SES_Model\n",
      "True :::: SES_Model | SES_Model\n",
      "True :::: SES_Model | SES_Model\n",
      "True :::: SES_Model | SES_Model\n",
      "True :::: SES_Model | SES_Model\n",
      "True :::: SES_Model | SES_Model\n",
      "False :::: SES_Model | Sustainability_Concepts\n",
      "False :::: SES_Model | Sustainability_Concepts\n",
      "True :::: SES_Model | SES_Model\n",
      "True :::: SES_Model | SES_Model\n",
      "True :::: SES_Model | SES_Model\n",
      "False :::: SES_Model | Sustainability_Concepts\n",
      "True :::: SES_Model | SES_Model\n",
      "True :::: SES_Model | SES_Model\n",
      "True :::: SES_Model | SES_Model\n",
      "False :::: Politics_and_Norms | Sustainability_Concepts\n",
      "False :::: Politics_and_Norms | SES_Model\n",
      "False :::: Politics_and_Norms | Sustainability_Concepts\n",
      "False :::: Politics_and_Norms | Sustainability_Concepts\n",
      "False :::: Politics_and_Norms | SES_Model\n",
      "False :::: Politics_and_Norms | SES_Model\n",
      "False :::: Politics_and_Norms | SES_Model\n",
      "False :::: Politics_and_Norms | Sustainability_Concepts\n",
      "False :::: Politics_and_Norms | Theory_of_Science_and_Knowledge\n",
      "False :::: Politics_and_Norms | Sustainability_Concepts\n",
      "False :::: Politics_and_Norms | Sustainability_Concepts\n",
      "False :::: Politics_and_Norms | Sustainability_Concepts\n",
      "False :::: Politics_and_Norms | Sustainability_Concepts\n",
      "False :::: Politics_and_Norms | Sustainability_Concepts\n",
      "False :::: Politics_and_Norms | Sustainability_Concepts\n",
      "False :::: Politics_and_Norms | Theory_of_Science_and_Knowledge\n",
      "False :::: Politics_and_Norms | SES_Model\n",
      "False :::: Politics_and_Norms | Theory_of_Science_and_Knowledge\n",
      "False :::: Politics_and_Norms | Theory_of_Science_and_Knowledge\n",
      "False :::: Economics | Sustainability_Concepts\n",
      "False :::: Economics | Theory_of_Science_and_Knowledge\n",
      "False :::: Economics | Sustainability_Concepts\n",
      "False :::: Economics | Philosophy\n",
      "False :::: Economics | Sustainability_Concepts\n",
      "False :::: Economics | Sustainability_Concepts\n",
      "False :::: Economics | Sustainability_Concepts\n",
      "False :::: Economics | Sustainability_Concepts\n",
      "False :::: Economics | Sustainability_Concepts\n",
      "False :::: Economics | SES_Model\n",
      "False :::: Economics | Theory_of_Science_and_Knowledge\n",
      "False :::: Economics | Sustainability_Concepts\n",
      "False :::: Economics | Theory_of_Science_and_Knowledge\n",
      "True :::: Theory_of_Science_and_Knowledge | Theory_of_Science_and_Knowledge\n",
      "False :::: Theory_of_Science_and_Knowledge | Philosophy\n",
      "False :::: Theory_of_Science_and_Knowledge | Sustainability_Concepts\n",
      "False :::: Theory_of_Science_and_Knowledge | SES_Model\n",
      "True :::: Theory_of_Science_and_Knowledge | Theory_of_Science_and_Knowledge\n",
      "False :::: Theory_of_Science_and_Knowledge | Sustainability_Concepts\n",
      "True :::: Theory_of_Science_and_Knowledge | Theory_of_Science_and_Knowledge\n",
      "True :::: Theory_of_Science_and_Knowledge | Theory_of_Science_and_Knowledge\n",
      "False :::: Theory_of_Science_and_Knowledge | Sustainability_Concepts\n",
      "True :::: Theory_of_Science_and_Knowledge | Theory_of_Science_and_Knowledge\n",
      "True :::: Theory_of_Science_and_Knowledge | Theory_of_Science_and_Knowledge\n",
      "True :::: Theory_of_Science_and_Knowledge | Theory_of_Science_and_Knowledge\n",
      "False :::: Theory_of_Science_and_Knowledge | Philosophy\n",
      "False :::: Theory_of_Science_and_Knowledge | Sustainability_Concepts\n",
      "True :::: Theory_of_Science_and_Knowledge | Theory_of_Science_and_Knowledge\n",
      "False :::: Theory_of_Science_and_Knowledge | Sustainability_Concepts\n",
      "True :::: Theory_of_Science_and_Knowledge | Theory_of_Science_and_Knowledge\n",
      "True :::: Theory_of_Science_and_Knowledge | Theory_of_Science_and_Knowledge\n",
      "True :::: Theory_of_Science_and_Knowledge | Theory_of_Science_and_Knowledge\n",
      "True :::: Theory_of_Science_and_Knowledge | Theory_of_Science_and_Knowledge\n",
      "True :::: Theory_of_Science_and_Knowledge | Theory_of_Science_and_Knowledge\n",
      "True :::: Theory_of_Science_and_Knowledge | Theory_of_Science_and_Knowledge\n",
      "True :::: Theory_of_Science_and_Knowledge | Theory_of_Science_and_Knowledge\n",
      "True :::: Theory_of_Science_and_Knowledge | Theory_of_Science_and_Knowledge\n",
      "True :::: Theory_of_Science_and_Knowledge | Theory_of_Science_and_Knowledge\n",
      "True :::: Theory_of_Science_and_Knowledge | Theory_of_Science_and_Knowledge\n",
      "True :::: Theory_of_Science_and_Knowledge | Theory_of_Science_and_Knowledge\n",
      "True :::: Theory_of_Science_and_Knowledge | Theory_of_Science_and_Knowledge\n",
      "True :::: Theory_of_Science_and_Knowledge | Theory_of_Science_and_Knowledge\n",
      "True :::: Theory_of_Science_and_Knowledge | Theory_of_Science_and_Knowledge\n",
      "True :::: Theory_of_Science_and_Knowledge | Theory_of_Science_and_Knowledge\n",
      "False :::: Theory_of_Science_and_Knowledge | Sustainability_Concepts\n",
      "True :::: Theory_of_Science_and_Knowledge | Theory_of_Science_and_Knowledge\n",
      "True :::: Theory_of_Science_and_Knowledge | Theory_of_Science_and_Knowledge\n",
      "False :::: Theory_of_Science_and_Knowledge | Sustainability_Concepts\n",
      "True :::: Philosophy | Philosophy\n",
      "False :::: Philosophy | Theory_of_Science_and_Knowledge\n",
      "False :::: Philosophy | Theory_of_Science_and_Knowledge\n",
      "False :::: Philosophy | Sustainability_Concepts\n",
      "False :::: Philosophy | Sustainability_Concepts\n",
      "True :::: Philosophy | Philosophy\n",
      "False :::: Philosophy | Theory_of_Science_and_Knowledge\n",
      "True :::: Philosophy | Philosophy\n",
      "True :::: Philosophy | Philosophy\n",
      "False :::: Philosophy | Theory_of_Science_and_Knowledge\n",
      "False :::: Philosophy | Theory_of_Science_and_Knowledge\n",
      "False :::: Philosophy | Sustainability_Concepts\n",
      "True :::: Philosophy | Philosophy\n",
      "False :::: Philosophy | Theory_of_Science_and_Knowledge\n",
      "True :::: Philosophy | Philosophy\n",
      "True :::: Philosophy | Philosophy\n",
      "True :::: Philosophy | Philosophy\n",
      "False :::: Philosophy | Theory_of_Science_and_Knowledge\n",
      "False :::: Philosophy | Theory_of_Science_and_Knowledge\n",
      "False :::: Philosophy | Sustainability_Concepts\n",
      "False :::: Philosophy | Sustainability_Concepts\n",
      "True :::: Philosophy | Philosophy\n",
      "False :::: Philosophy | Theory_of_Science_and_Knowledge\n",
      "False :::: Philosophy | Sustainability_Concepts\n",
      "False :::: Philosophy | Theory_of_Science_and_Knowledge\n",
      "False :::: Philosophy | Theory_of_Science_and_Knowledge\n",
      "True :::: Sustainability_Concepts | Sustainability_Concepts\n",
      "True :::: Sustainability_Concepts | Sustainability_Concepts\n",
      "False :::: Sustainability_Concepts | SES_Model\n",
      "True :::: Sustainability_Concepts | Sustainability_Concepts\n",
      "True :::: Sustainability_Concepts | Sustainability_Concepts\n",
      "True :::: Sustainability_Concepts | Sustainability_Concepts\n",
      "True :::: Sustainability_Concepts | Sustainability_Concepts\n",
      "True :::: Sustainability_Concepts | Sustainability_Concepts\n",
      "True :::: Sustainability_Concepts | Sustainability_Concepts\n",
      "True :::: Sustainability_Concepts | Sustainability_Concepts\n",
      "True :::: Sustainability_Concepts | Sustainability_Concepts\n",
      "True :::: Sustainability_Concepts | Sustainability_Concepts\n",
      "True :::: Sustainability_Concepts | Sustainability_Concepts\n",
      "False :::: Sustainability_Concepts | SES_Model\n",
      "False :::: Sustainability_Concepts | Theory_of_Science_and_Knowledge\n",
      "True :::: Sustainability_Concepts | Sustainability_Concepts\n",
      "False :::: Sustainability_Concepts | SES_Model\n",
      "True :::: Sustainability_Concepts | Sustainability_Concepts\n",
      "False :::: Sustainability_Concepts | Theory_of_Science_and_Knowledge\n",
      "False :::: Sustainability_Concepts | Theory_of_Science_and_Knowledge\n",
      "True :::: Sustainability_Concepts | Sustainability_Concepts\n",
      "True :::: Sustainability_Concepts | Sustainability_Concepts\n",
      "False :::: Sustainability_Concepts | SES_Model\n",
      "False :::: Sustainability_Concepts | Theory_of_Science_and_Knowledge\n",
      "False :::: Sustainability_Concepts | Theory_of_Science_and_Knowledge\n",
      "False :::: Sustainability_Concepts | SES_Model\n",
      "True :::: Sustainability_Concepts | Sustainability_Concepts\n",
      "True :::: Sustainability_Concepts | Sustainability_Concepts\n",
      "True :::: Sustainability_Concepts | Sustainability_Concepts\n",
      "True :::: Sustainability_Concepts | Sustainability_Concepts\n",
      "False :::: Sustainability_Concepts | Theory_of_Science_and_Knowledge\n",
      "True :::: Sustainability_Concepts | Sustainability_Concepts\n",
      "True :::: Sustainability_Concepts | Sustainability_Concepts\n",
      "True :::: Sustainability_Concepts | Sustainability_Concepts\n",
      "True :::: Sustainability_Concepts | Sustainability_Concepts\n",
      "False :::: Compl_and_Society | Sustainability_Concepts\n",
      "False :::: Compl_and_Society | Theory_of_Science_and_Knowledge\n",
      "False :::: Compl_and_Society | Theory_of_Science_and_Knowledge\n",
      "False :::: Compl_and_Society | Sustainability_Concepts\n",
      "False :::: Compl_and_Society | SES_Model\n",
      "False :::: Compl_and_Society | Philosophy\n",
      "False :::: Compl_and_Society | SES_Model\n",
      "False :::: Compl_and_Society | SES_Model\n",
      "False :::: Compl_and_Society | Sustainability_Concepts\n",
      "False :::: Compl_and_Society | Sustainability_Concepts\n",
      "False :::: Compl_and_Society | Sustainability_Concepts\n",
      "False :::: Compl_and_Society | Sustainability_Concepts\n",
      "False :::: Compl_and_Society | Philosophy\n",
      "False :::: Compl_and_Society | Sustainability_Concepts\n",
      "False :::: Compl_and_Society | Sustainability_Concepts\n",
      "False :::: Compl_and_Society | Sustainability_Concepts\n",
      "False :::: Compl_and_Society | Sustainability_Concepts\n",
      "True :::: Compl_and_Society | Compl_and_Society\n",
      "True :::: Compl_and_Society | Compl_and_Society\n",
      "False :::: Compl_and_Society | Sustainability_Concepts\n",
      "False :::: Compl_and_Society | Philosophy\n",
      "False :::: Compl_and_Society | Theory_of_Science_and_Knowledge\n"
     ]
    }
   ],
   "source": [
    "i = 0.\n",
    "i2 = 0.\n",
    "for k, p in zip(K, P):\n",
    "    if k == p:\n",
    "        i += 1.\n",
    "    print k==p, '::::', k, '|', p"
   ]
  },
  {
   "cell_type": "code",
   "execution_count": 539,
   "metadata": {
    "collapsed": false
   },
   "outputs": [
    {
     "data": {
      "text/plain": [
       "(0.14285714285714285, 0.4406779661016949, 0.4406779661016949)"
      ]
     },
     "execution_count": 539,
     "metadata": {},
     "output_type": "execute_result"
    }
   ],
   "source": [
    "1./len(set(classes)), i/(len(classes) - 1.), (i+i2)/(len(classes) - 1.)"
   ]
  },
  {
   "cell_type": "code",
   "execution_count": null,
   "metadata": {
    "collapsed": true
   },
   "outputs": [],
   "source": []
  },
  {
   "cell_type": "code",
   "execution_count": 547,
   "metadata": {
    "collapsed": false
   },
   "outputs": [
    {
     "name": "stdout",
     "output_type": "stream",
     "text": [
      "Compl_and_Society ::: resilience, sociology, agents, adaptive_capacity, vulnerability, adaptation, page, methodological_individualism, regime, complexity_theory\n",
      "Economics ::: ecological_economics, sustainability_economics, ___, capability_approach, commons, justice, neoliberalism, tragedy, ecological_economists, forest_transitions\n",
      "Philosophy ::: logic, transdisciplinarity, popper, philosophy, included_middle, discovery, nona, transdisciplinary, epistemic_logic, chaos\n",
      "Politics_and_Norms ::: ontology, identity, indigenous, commons, feminist, lake, ecosystem_services, resilience, fish, services\n",
      "SES_Model ::: resilience, ecosystems, species, ecosystem, governance, sess, variables, ___, panarchy, ecosystem_services\n",
      "Sustainability_Concepts ::: sustainability_science, mlp, sustainable_development, resilience, health, lca, transitions, ontology, urban, transdisciplinary_research\n",
      "Theory_of_Science_and_Knowledge ::: transdisciplinarity, transdisciplinary_research, transdisciplinary, lifeworld, td_research, knowledge_management, disciplines, pns, disciplinary, interdisciplinary\n"
     ]
    }
   ],
   "source": [
    "for i, cl in enumerate(clf.classes_):\n",
    "    idx = clf.feature_log_prob_[i].argsort()[::-1][:10]\n",
    "    print cl, ':::', ', '.join([lookup[x] for x in idx])"
   ]
  },
  {
   "cell_type": "code",
   "execution_count": 542,
   "metadata": {
    "collapsed": false
   },
   "outputs": [
    {
     "data": {
      "text/plain": [
       "array(['Compl_and_Society', 'Economics', 'Philosophy',\n",
       "       'Politics_and_Norms', 'SES_Model', 'Sustainability_Concepts',\n",
       "       'Theory_of_Science_and_Knowledge'], \n",
       "      dtype='|S31')"
      ]
     },
     "execution_count": 542,
     "metadata": {},
     "output_type": "execute_result"
    }
   ],
   "source": []
  },
  {
   "cell_type": "code",
   "execution_count": null,
   "metadata": {
    "collapsed": true
   },
   "outputs": [],
   "source": []
  }
 ],
 "metadata": {
  "kernelspec": {
   "display_name": "Python 2",
   "language": "python",
   "name": "python2"
  },
  "language_info": {
   "codemirror_mode": {
    "name": "ipython",
    "version": 2
   },
   "file_extension": ".py",
   "mimetype": "text/x-python",
   "name": "python",
   "nbconvert_exporter": "python",
   "pygments_lexer": "ipython2",
   "version": "2.7.9"
  }
 },
 "nbformat": 4,
 "nbformat_minor": 0
}
